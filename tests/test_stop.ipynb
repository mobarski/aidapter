{
 "cells": [
  {
   "cell_type": "code",
   "execution_count": 9,
   "metadata": {},
   "outputs": [],
   "source": [
    "import sys; sys.path[0:0] = ['.','..']"
   ]
  },
  {
   "cell_type": "code",
   "execution_count": null,
   "metadata": {},
   "outputs": [],
   "source": [
    "import aidapter\n",
    "\n",
    "model = aidapter.model('transformers:RWKV/rwkv-raven-3b')"
   ]
  },
  {
   "cell_type": "code",
   "execution_count": 5,
   "metadata": {},
   "outputs": [
    {
     "name": "stdout",
     "output_type": "stream",
     "text": [
      " Hi, Alice. I'm Bob.\n",
      "Alice: Hi, Bob. I'm Alice.\n",
      "Bob: I'm Alice.\n",
      "Alice: Hi, Bob. I'm Alice.\n",
      "Bob: I'm Alice.\n",
      "Alice: Hi, Bob. I'm Alice.\n",
      "Bob: I'm Alice.\n",
      "Alice: Hi, Bob. I'm Alice.\n",
      "Bob: I'm Alice.\n",
      "Alice: Hi, Bob. I'm Alice.\n",
      "Bob: I\n"
     ]
    }
   ],
   "source": [
    "print(model.complete('Alice: Hello, my name is Alice.\\nBob:'))"
   ]
  },
  {
   "cell_type": "code",
   "execution_count": 6,
   "metadata": {},
   "outputs": [
    {
     "name": "stdout",
     "output_type": "stream",
     "text": [
      "Bob: Hi, Alice. I'm Bob.\n",
      "Alice: Hi, Bob. I'm Alice.\n",
      "Bob: I'm Alice.\n",
      "Alice: Hi, Bob. I'm Alice.\n",
      "Bob: I'm Alice.\n",
      "Alice: Hi, Bob. I'm Alice.\n",
      "Bob: I'm Alice.\n",
      "Alice: Hi, Bob. I'm Alice.\n",
      "Bob: I'm Alice.\n",
      "Alice: Hi, Bob. I'm Alice.\n",
      "Bob: I\n"
     ]
    }
   ],
   "source": [
    "print(model.complete('Alice: Hello, my name is Alice.\\n', start='Bob:'))"
   ]
  },
  {
   "cell_type": "code",
   "execution_count": 10,
   "metadata": {},
   "outputs": [
    {
     "name": "stdout",
     "output_type": "stream",
     "text": [
      "Bob: Hi, Alice. I'm Bob.\n",
      "\n"
     ]
    }
   ],
   "source": [
    "print(model.complete('Alice: Hello, my name is Alice.\\n', start='Bob:', stop=['Alice:']))"
   ]
  }
 ],
 "metadata": {
  "kernelspec": {
   "display_name": "Python 3",
   "language": "python",
   "name": "python3"
  },
  "language_info": {
   "codemirror_mode": {
    "name": "ipython",
    "version": 3
   },
   "file_extension": ".py",
   "mimetype": "text/x-python",
   "name": "python",
   "nbconvert_exporter": "python",
   "pygments_lexer": "ipython3",
   "version": "3.10.6"
  },
  "orig_nbformat": 4
 },
 "nbformat": 4,
 "nbformat_minor": 2
}
